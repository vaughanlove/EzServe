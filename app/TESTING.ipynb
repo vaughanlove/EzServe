{
 "cells": [
  {
   "cell_type": "code",
   "execution_count": null,
   "id": "8f192455-765f-441f-9907-385649dc5659",
   "metadata": {},
   "outputs": [],
   "source": [
    "# notebook is good for rapid testing different prompts."
   ]
  },
  {
   "cell_type": "code",
   "execution_count": 1,
   "id": "4c21ee67-a71e-47d5-92a6-2d933300e7d7",
   "metadata": {},
   "outputs": [
    {
     "name": "stderr",
     "output_type": "stream",
     "text": [
      "INFO:source.agents.agentv2.database.client:Initializing the chromadb client.\n"
     ]
    },
    {
     "name": "stdout",
     "output_type": "stream",
     "text": [
      "embedded weaviate is already listening on port 6666\n"
     ]
    },
    {
     "name": "stderr",
     "output_type": "stream",
     "text": [
      "INFO:source.agents.agentv2.database.client:CHROMADB: Fetching menu from square api.\n"
     ]
    },
    {
     "data": {
      "text/plain": [
       "True"
      ]
     },
     "execution_count": 1,
     "metadata": {},
     "output_type": "execute_result"
    }
   ],
   "source": [
    "from source import autoserve\n",
    "from dotenv import load_dotenv\n",
    "import asyncio\n",
    "import os\n",
    "\n",
    "load_dotenv()"
   ]
  },
  {
   "cell_type": "code",
   "execution_count": null,
   "id": "c22e424e-55aa-43a7-a2b1-7cf3a6e959e3",
   "metadata": {},
   "outputs": [],
   "source": [
    "# the weaviate vectrodb persists.\n",
    "server = autoserve.AutoServe(verbose=True)"
   ]
  },
  {
   "cell_type": "code",
   "execution_count": null,
   "id": "d00cb0ec-c219-4f9b-ae06-5d42cf891efc",
   "metadata": {},
   "outputs": [],
   "source": [
    "server.agent.run(\"What is the caesar?\")"
   ]
  },
  {
   "cell_type": "code",
   "execution_count": null,
   "id": "ab4abd28-2014-4276-a516-7b262be7cfb0",
   "metadata": {},
   "outputs": [],
   "source": [
    "server.agent.run(\"what is in the burger?\")"
   ]
  },
  {
   "cell_type": "code",
   "execution_count": null,
   "id": "ecaf2c66-745f-42b8-95a8-5f00328ac4a3",
   "metadata": {},
   "outputs": [],
   "source": [
    "from source.agents.agentv2.database.client import DatabaseClient"
   ]
  },
  {
   "cell_type": "code",
   "execution_count": 7,
   "id": "92ce40f1-17e9-4d12-a7a0-eadce451eece",
   "metadata": {},
   "outputs": [
    {
     "name": "stderr",
     "output_type": "stream",
     "text": [
      "INFO:source.agents.agentv2.database.client:Initializing the chromadb client.\n"
     ]
    },
    {
     "name": "stdout",
     "output_type": "stream",
     "text": [
      "embedded weaviate is already listening on port 6666\n"
     ]
    },
    {
     "name": "stderr",
     "output_type": "stream",
     "text": [
      "INFO:source.agents.agentv2.database.client:CHROMADB: Fetching menu from square api.\n"
     ]
    }
   ],
   "source": [
    "db = DatabaseClient()"
   ]
  },
  {
   "cell_type": "code",
   "execution_count": null,
   "id": "d90ac746-d420-4c78-aef7-7564bfc8a13b",
   "metadata": {},
   "outputs": [],
   "source": [
    "res = db.query(\"\")"
   ]
  },
  {
   "cell_type": "code",
   "execution_count": 4,
   "id": "e7899754-ab09-414d-bc73-b2ffe8af7049",
   "metadata": {},
   "outputs": [],
   "source": [
    "a = [[{'item_id': 'EDPC4R2M24S62QFQFEUZRA6J', 'name': 'small coffee', 'price': 199}, {'item_id': 'L7UXY3ICFJJVYSECQWMCTMBW', 'name': 'small milkshake', 'price': 499}]]"
   ]
  },
  {
   "cell_type": "code",
   "execution_count": 6,
   "id": "eaee777f-93c5-4d4f-88ab-6abf571d3091",
   "metadata": {},
   "outputs": [],
   "source": [
    "from square.client import Client\n",
    "square_client = Client(\n",
    "    access_token=\"EAAAEED14LkSz43Sqz7_VwvL-VTQ04R7y9ElG8Io5yrxUq_QXWM10-l3auavCT0R\",\n",
    "    environment='production'\n",
    ")\n",
    "result = square_client.catalog.list_catalog(\n",
    "  catalog_version = 0\n",
    ")"
   ]
  },
  {
   "cell_type": "code",
   "execution_count": 7,
   "id": "72c72b4f-9acb-4f68-bbf0-a269389fb74d",
   "metadata": {},
   "outputs": [
    {
     "name": "stdout",
     "output_type": "stream",
     "text": [
      "1\n",
      "0\n"
     ]
    }
   ],
   "source": [
    "print(len(a))\n",
    "\n",
    "for i in range(len(a)):\n",
    "    print(i)"
   ]
  },
  {
   "cell_type": "code",
   "execution_count": 10,
   "id": "4486ddb4-d5c9-4a28-aa42-98669123c1cf",
   "metadata": {},
   "outputs": [
    {
     "name": "stdout",
     "output_type": "stream",
     "text": [
      "QUICK_AMOUNTS_SETTINGS\n",
      "MODIFIER_LIST\n",
      "ITEM\n",
      "Indulge in the ultimate burger experience with our juicy beef patty, mouthwatering toppings, and perfectly toasted bun. Savor every bite of this classic favorite that will satisfy your cravings and leave you wanting more.\n",
      "ITEM\n",
      "Indulge in the ultimate comfort food with our delicious chicken tenders. With a crispy coating and juicy, tender meat, these versatile treats are perfect for any meal. Whether you're enjoying them as a snack, adding them to a salad, or creating a mouthwatering sandwich, our chicken tenders are sure to satisfy your cravings.\n",
      "ITEM\n",
      "Indulge in the irresistible crispy texture of our fries, the perfect side dish to complement any meal. Made with the finest ingredients and cooked to perfection, our fries are sure to satisfy your cravings. Add them to your order now and elevate your dining experience!\n",
      "ITEM\n",
      "Indulge in the refreshing taste of our soft drink, crafted to quench your thirst and provide a burst of flavor. Experience the perfect balance of sweetness and fizziness in every sip. Add this refreshing beverage to your cart now and enjoy a delightful treat!\n",
      "ITEM\n",
      "Indulge in the rich flavor and aromatic aroma of our premium coffee. With a perfect balance of boldness and smoothness, it's the perfect way to start your day or enjoy a midday pick-me-up. Experience the energizing caffeine boost that will keep you focused and productive. Order now and elevate your coffee experience to new heights.\n",
      "ITEM\n",
      "Indulge in the ultimate chicken sandwich experience with our juicy and flavorful breaded chicken, perfectly complemented by crispy bread and delicious toppings. Elevate your lunchtime routine with this mouthwatering delight - order your chicken sandwich today!\n",
      "ITEM\n"
     ]
    },
    {
     "ename": "KeyError",
     "evalue": "'description'",
     "output_type": "error",
     "traceback": [
      "\u001b[0;31m---------------------------------------------------------------------------\u001b[0m",
      "\u001b[0;31mKeyError\u001b[0m                                  Traceback (most recent call last)",
      "Cell \u001b[0;32mIn[10], line 4\u001b[0m\n\u001b[1;32m      2\u001b[0m \u001b[38;5;28mprint\u001b[39m(obj[\u001b[38;5;124m'\u001b[39m\u001b[38;5;124mtype\u001b[39m\u001b[38;5;124m'\u001b[39m])\n\u001b[1;32m      3\u001b[0m \u001b[38;5;28;01mif\u001b[39;00m obj[\u001b[38;5;124m'\u001b[39m\u001b[38;5;124mtype\u001b[39m\u001b[38;5;124m'\u001b[39m] \u001b[38;5;241m==\u001b[39m \u001b[38;5;124m'\u001b[39m\u001b[38;5;124mITEM\u001b[39m\u001b[38;5;124m'\u001b[39m:\n\u001b[0;32m----> 4\u001b[0m     \u001b[38;5;28mprint\u001b[39m(\u001b[43mobj\u001b[49m\u001b[43m[\u001b[49m\u001b[38;5;124;43m\"\u001b[39;49m\u001b[38;5;124;43mitem_data\u001b[39;49m\u001b[38;5;124;43m\"\u001b[39;49m\u001b[43m]\u001b[49m\u001b[43m[\u001b[49m\u001b[38;5;124;43m'\u001b[39;49m\u001b[38;5;124;43mdescription\u001b[39;49m\u001b[38;5;124;43m'\u001b[39;49m\u001b[43m]\u001b[49m)\n",
      "\u001b[0;31mKeyError\u001b[0m: 'description'"
     ]
    }
   ],
   "source": [
    "for obj in result.body[\"objects\"]:\n",
    "    print(obj['type'])\n",
    "    if obj['type'] == 'ITEM':\n",
    "        print(obj[\"item_data\"]['description'])"
   ]
  },
  {
   "cell_type": "code",
   "execution_count": null,
   "id": "91dcb14f-3602-465e-a360-e590c87bbba2",
   "metadata": {},
   "outputs": [],
   "source": []
  }
 ],
 "metadata": {
  "kernelspec": {
   "display_name": "Python 3 (ipykernel)",
   "language": "python",
   "name": "python3"
  },
  "language_info": {
   "codemirror_mode": {
    "name": "ipython",
    "version": 3
   },
   "file_extension": ".py",
   "mimetype": "text/x-python",
   "name": "python",
   "nbconvert_exporter": "python",
   "pygments_lexer": "ipython3",
   "version": "3.10.12"
  }
 },
 "nbformat": 4,
 "nbformat_minor": 5
}
