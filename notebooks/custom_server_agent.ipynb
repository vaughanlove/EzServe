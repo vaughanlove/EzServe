{
 "cells": [
  {
   "cell_type": "code",
   "execution_count": 1,
   "id": "b5416ff3-2b30-49e1-b96b-6603d22dd1bb",
   "metadata": {},
   "outputs": [],
   "source": [
    "import os\n",
    "import json\n",
    "\n",
    "from pprint import pprint\n",
    "\n",
    "from langchain import LLMChain, PromptTemplate\n",
    "from langchain.agents import ZeroShotAgent, Tool, AgentExecutor, AgentType, initialize_agent\n",
    "from langchain.llms import vertexai\n",
    "from langchain.tools.base import BaseTool\n",
    "from langchain.callbacks.manager import (AsyncCallbackManagerForToolRun, CallbackManagerForToolRun)\n",
    "\n",
    "\n",
    "from vertexai.preview.language_models import TextGenerationModel\n",
    "from google.cloud import aiplatform\n",
    "\n",
    "from pydantic import BaseModel, Field, ConfigDict\n",
    "from typing import Optional, Type"
   ]
  },
  {
   "cell_type": "code",
   "execution_count": 2,
   "id": "c87f5f0b-6f84-4a5f-beb3-23c5e96dbf0e",
   "metadata": {},
   "outputs": [],
   "source": [
    "# trace langchain execution\n",
    "os.environ[\"LANGCHAIN_TRACING\"] = \"false\"\n",
    "\n",
    "# authenticate \n",
    "GOOGLE_PROJECT_ID = os.getenv(\"GOOGLE_PROJECT_ID\") # ie, confident-jackle-123456\n",
    "aiplatform.init(project=GOOGLE_PROJECT_ID, location=\"us-central1\")\n",
    "\n",
    "# square device id presets. More info at https://developer.squareup.com/docs/devtools/sandbox/testing\n",
    "DEVICE_ID_CHECKOUT_SUCCESS=\"9fa747a2-25ff-48ee-b078-04381f7c828f\"\n",
    "DEVICE_ID_CHECKOUT_SUCCESS_TIP=\"22cd266c-6246-4c06-9983-67f0c26346b0\"\n",
    "DEVICE_ID_CHECKOUT_SUCCESS_GC=\"4mp4e78c-88ed-4d55-a269-8008dfe14e9\"\n",
    "DEVICE_ID_CHECKOUT_FAILURE_BUYER_CANCEL=\"841100b9-ee60-4537-9bcf-e30b2ba5e215\"\n",
    "\n",
    "# set what device ID to use\n",
    "os.environ[\"DEVICE\"] = DEVICE_ID_CHECKOUT_SUCCESS_TIP"
   ]
  },
  {
   "cell_type": "markdown",
   "id": "1d7eea10-1956-4e25-9a98-0a8fc92b54e5",
   "metadata": {},
   "source": [
    "## overview\n",
    "In order to maintain customer privacy and minimize the ability for this agent to leak information, it is not going to have any memory (in the prompt). It is still going to be able to retrieve and relay a user's order, but that will be information retrieved from an api using a tool. \n",
    "\n",
    "This saves alot of tokens being fed into the input prompt"
   ]
  },
  {
   "cell_type": "code",
   "execution_count": 3,
   "id": "11af8fde-3a13-4da1-a228-c21279e6a7f5",
   "metadata": {},
   "outputs": [],
   "source": [
    "from tools import OrderTool, GetDetailedMenuTool, FindItemIdTool, MakeOrderCheckoutTool, GetOrderTool\n",
    "\n",
    "tools = [GetDetailedMenuTool(), FindItemIdTool(), OrderTool(), MakeOrderCheckoutTool(), GetOrderTool()]"
   ]
  },
  {
   "cell_type": "code",
   "execution_count": 4,
   "id": "7357e7d8-4b69-4e9d-b0cd-f806b323d140",
   "metadata": {},
   "outputs": [],
   "source": [
    "agent = initialize_agent(\n",
    "    tools,\n",
    "    vertexai.VertexAI(temperature=0),\n",
    "    agent=AgentType.STRUCTURED_CHAT_ZERO_SHOT_REACT_DESCRIPTION,\n",
    "    verbose=True,\n",
    ")"
   ]
  },
  {
   "cell_type": "code",
   "execution_count": 5,
   "id": "4e626c61-909f-4461-815d-07424c31e596",
   "metadata": {},
   "outputs": [
    {
     "name": "stdout",
     "output_type": "stream",
     "text": [
      "\n",
      "\n",
      "\u001b[1m> Entering new AgentExecutor chain...\u001b[0m\n",
      "\u001b[32;1m\u001b[1;3m Action:\n",
      "```\n",
      "{\n",
      "  \"action\": \"find_item_id_tool\",\n",
      "  \"action_input\": {\n",
      "    \"name\": \"small blueberry muffin\"\n",
      "  }\n",
      "}\n",
      "```\n",
      "\u001b[0m\n",
      "Observation: \u001b[33;1m\u001b[1;3mQHIFP5QQD373ZLO5P7FHGTCM\u001b[0m\n",
      "Thought:\u001b[32;1m\u001b[1;3m Action:\n",
      "```\n",
      "{\n",
      "  \"action\": \"order_tool\",\n",
      "  \"action_input\": {\n",
      "    \"item_id\": \"QHIFP5QQD373ZLO5P7FHGTCM\",\n",
      "    \"quantity\": \"1\"\n",
      "  }\n",
      "}\n",
      "```\n",
      "\n",
      "\u001b[0m\n",
      "Observation: \u001b[38;5;200m\u001b[1;3mOrder for Muffin was placed successfully.\u001b[0m\n",
      "Thought:\u001b[32;1m\u001b[1;3m Action:\n",
      "```\n",
      "{\n",
      "  \"action\": \"get_order_tool\",\n",
      "  \"action_input\": {}\n",
      "}\n",
      "```\n",
      "\n",
      "\u001b[0m\n",
      "Observation: \u001b[33;1m\u001b[1;3m['Muffin']\u001b[0m\n",
      "Thought:\u001b[32;1m\u001b[1;3m Action:\n",
      "```\n",
      "{\n",
      "  \"action\": \"Final Answer\",\n",
      "  \"action_input\": \"Your order contains the following items: Muffin\"\n",
      "}\n",
      "```\u001b[0m\n",
      "\n",
      "\u001b[1m> Finished chain.\u001b[0m\n"
     ]
    },
    {
     "data": {
      "text/plain": [
       "'Your order contains the following items: Muffin'"
      ]
     },
     "execution_count": 5,
     "metadata": {},
     "output_type": "execute_result"
    }
   ],
   "source": [
    "agent.run(\"could I order a small blueberry muffin?\")"
   ]
  },
  {
   "cell_type": "code",
   "execution_count": 6,
   "id": "1f63a70c-78d0-4c17-a15b-ab8192bd9c46",
   "metadata": {},
   "outputs": [
    {
     "name": "stdout",
     "output_type": "stream",
     "text": [
      "\n",
      "\n",
      "\u001b[1m> Entering new AgentExecutor chain...\u001b[0m\n",
      "\u001b[32;1m\u001b[1;3m Action:\n",
      "```\n",
      "{\n",
      "  \"action\": \"find_item_id_tool\",\n",
      "  \"action_input\": {\n",
      "    \"name\": \"coffee large\"\n",
      "  }\n",
      "}\n",
      "```\n",
      "\u001b[0m\n",
      "Observation: \u001b[33;1m\u001b[1;3mJHHYV2RFNB3K2DJGR7OM2RCZ\u001b[0m\n",
      "Thought:\u001b[32;1m\u001b[1;3m Action:\n",
      "```\n",
      "{\n",
      "  \"action\": \"order_tool\",\n",
      "  \"action_input\": {\n",
      "    \"item_id\": \"JHHYV2RFNB3K2DJGR7OM2RCZ\",\n",
      "    \"quantity\": \"1\"\n",
      "  }\n",
      "}\n",
      "```\n",
      "\n",
      "\u001b[0m\n",
      "Observation: \u001b[38;5;200m\u001b[1;3mOrder for Coffee was placed successfully.\u001b[0m\n",
      "Thought:\u001b[32;1m\u001b[1;3m Action:\n",
      "```\n",
      "{\n",
      "  \"action\": \"Final Answer\",\n",
      "  \"action_input\": \"Your order for a large coffee has been placed.\"\n",
      "}\n",
      "```\u001b[0m\n",
      "\n",
      "\u001b[1m> Finished chain.\u001b[0m\n"
     ]
    },
    {
     "data": {
      "text/plain": [
       "'Your order for a large coffee has been placed.'"
      ]
     },
     "execution_count": 6,
     "metadata": {},
     "output_type": "execute_result"
    }
   ],
   "source": [
    "agent.run(\"could I order a large coffee?\")"
   ]
  },
  {
   "cell_type": "code",
   "execution_count": 7,
   "id": "3bd9d619-e074-4a4f-930f-a6e9df5e88a0",
   "metadata": {},
   "outputs": [
    {
     "name": "stdout",
     "output_type": "stream",
     "text": [
      "\n",
      "\n",
      "\u001b[1m> Entering new AgentExecutor chain...\u001b[0m\n",
      "\u001b[32;1m\u001b[1;3m Action:\n",
      "```\n",
      "{\n",
      "  \"action\": \"get_order_tool\",\n",
      "  \"action_input\": {}\n",
      "}\n",
      "```\n",
      "\u001b[0m\n",
      "Observation: \u001b[33;1m\u001b[1;3m['Muffin', 'Coffee']\u001b[0m\n",
      "Thought:\u001b[32;1m\u001b[1;3m Action:\n",
      "```\n",
      "{\n",
      "  \"action\": \"Final Answer\",\n",
      "  \"action_input\": \"Your current order is a Muffin and a Coffee.\"\n",
      "}\n",
      "```\n",
      "\n",
      "\u001b[0m\n",
      "\n",
      "\u001b[1m> Finished chain.\u001b[0m\n"
     ]
    },
    {
     "data": {
      "text/plain": [
       "'Your current order is a Muffin and a Coffee.'"
      ]
     },
     "execution_count": 7,
     "metadata": {},
     "output_type": "execute_result"
    }
   ],
   "source": [
    "agent.run(\"what is my current order?\")"
   ]
  },
  {
   "cell_type": "code",
   "execution_count": 8,
   "id": "c0b94e41-1f41-4d11-a7ae-da93e51bb7f0",
   "metadata": {},
   "outputs": [
    {
     "name": "stdout",
     "output_type": "stream",
     "text": [
      "\n",
      "\n",
      "\u001b[1m> Entering new AgentExecutor chain...\u001b[0m\n",
      "\u001b[32;1m\u001b[1;3m Action:\n",
      "```\n",
      "{\n",
      "  \"action\": \"make_order_checkout\",\n",
      "  \"action_input\": {}\n",
      "}\n",
      "```\n",
      "\u001b[0m\n",
      "Observation: \u001b[36;1m\u001b[1;3mCheckout was successful, have a good day!\u001b[0m\n",
      "Thought:\u001b[32;1m\u001b[1;3m Action:\n",
      "```\n",
      "{\n",
      "  \"action\": \"Final Answer\",\n",
      "  \"action_input\": \"Your order has been checked out. Have a good day!\"\n",
      "}\n",
      "```\u001b[0m\n",
      "\n",
      "\u001b[1m> Finished chain.\u001b[0m\n"
     ]
    },
    {
     "data": {
      "text/plain": [
       "'Your order has been checked out. Have a good day!'"
      ]
     },
     "execution_count": 8,
     "metadata": {},
     "output_type": "execute_result"
    }
   ],
   "source": [
    "agent.run(\"could I check out?'\")"
   ]
  },
  {
   "cell_type": "markdown",
   "id": "8bc1a643-574e-4eb4-b685-e685da531954",
   "metadata": {},
   "source": [
    "## Chirp\n",
    "TODO: setup google chirp just for a simple demo"
   ]
  },
  {
   "cell_type": "code",
   "execution_count": null,
   "id": "a4383392-7450-4120-81c4-087a2b5257c6",
   "metadata": {},
   "outputs": [],
   "source": []
  }
 ],
 "metadata": {
  "kernelspec": {
   "display_name": "Python 3 (ipykernel)",
   "language": "python",
   "name": "python3"
  },
  "language_info": {
   "codemirror_mode": {
    "name": "ipython",
    "version": 3
   },
   "file_extension": ".py",
   "mimetype": "text/x-python",
   "name": "python",
   "nbconvert_exporter": "python",
   "pygments_lexer": "ipython3",
   "version": "3.11.4"
  }
 },
 "nbformat": 4,
 "nbformat_minor": 5
}
