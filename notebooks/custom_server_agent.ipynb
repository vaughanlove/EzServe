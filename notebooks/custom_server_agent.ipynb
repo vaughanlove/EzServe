{
 "cells": [
  {
   "cell_type": "code",
   "execution_count": 1,
   "id": "b82cacc1-5233-4145-901c-dfc4718c4755",
   "metadata": {},
   "outputs": [],
   "source": [
    "from dotenv import load_dotenv\n",
    "import os\n",
    "from pprint import pprint\n",
    "\n",
    "# trace langchain execution\n",
    "os.environ[\"LANGCHAIN_TRACING\"] = \"false\"\n",
    "\n",
    "# load in keys from .env. Have in format API_KEY=\"\".\n",
    "load_dotenv()\n",
    "API_KEY = os.getenv(\"API_KEY\")\n",
    "LOCATION = os.getenv(\"LOCATION\")\n",
    "GOOGLE_PROJECT_ID = os.getenv(\"GOOGLE_PROJECT_ID\") # ie, confident-jackle-123456"
   ]
  },
  {
   "cell_type": "code",
   "execution_count": 2,
   "id": "47251bc9-0767-4395-8a52-c416e3886bb2",
   "metadata": {},
   "outputs": [],
   "source": [
    "from google.cloud import aiplatform\n",
    "\n",
    "aiplatform.init(project=GOOGLE_PROJECT_ID, location=\"us-central1\")"
   ]
  },
  {
   "cell_type": "code",
   "execution_count": 3,
   "id": "b5416ff3-2b30-49e1-b96b-6603d22dd1bb",
   "metadata": {},
   "outputs": [],
   "source": [
    "from langchain.agents import ZeroShotAgent, Tool, AgentExecutor\n",
    "from langchain import LLMChain, PromptTemplate\n",
    "from langchain.llms import vertexai\n",
    "from vertexai.preview.language_models import TextGenerationModel\n",
    "from langchain.agents import AgentType, initialize_agent"
   ]
  },
  {
   "cell_type": "code",
   "execution_count": 4,
   "id": "c87f5f0b-6f84-4a5f-beb3-23c5e96dbf0e",
   "metadata": {},
   "outputs": [],
   "source": [
    "import json\n",
    "\n",
    "from tools import GetBasicMenuTool, GetDetailedMenuTool, FindItemIdTool, CreateOrderTool"
   ]
  },
  {
   "cell_type": "markdown",
   "id": "1d7eea10-1956-4e25-9a98-0a8fc92b54e5",
   "metadata": {},
   "source": [
    "## overview\n",
    "In order to maintain customer privacy and minimize the ability for this agent to leak information, it is not going to have any memory (in the prompt). It is still going to be able to retrieve and relay a user's order, but that will be information retrieved from an api using a tool. \n",
    "\n",
    "This saves alot of tokens being fed into the input prompt"
   ]
  },
  {
   "cell_type": "code",
   "execution_count": 5,
   "id": "c8c52c93-f068-4111-9045-6156613137ca",
   "metadata": {},
   "outputs": [],
   "source": [
    "from square.client import Client\n",
    "from square.api.catalog_api import CatalogApi\n",
    "from pydantic import BaseModel, Field, ConfigDict\n",
    "from langchain.tools.base import BaseTool\n",
    "from typing import Optional, Type\n",
    "from langchain.callbacks.manager import (\n",
    "    AsyncCallbackManagerForToolRun,\n",
    "    CallbackManagerForToolRun,\n",
    ")\n",
    "client = Client(\n",
    "    square_version='2023-08-16',\n",
    "    access_token=API_KEY,\n",
    "    environment='sandbox')"
   ]
  },
  {
   "cell_type": "code",
   "execution_count": 6,
   "id": "11af8fde-3a13-4da1-a228-c21279e6a7f5",
   "metadata": {},
   "outputs": [],
   "source": [
    "tools = [GetBasicMenuTool(), GetDetailedMenuTool(), FindItemIdTool(), CreateOrderTool()]"
   ]
  },
  {
   "cell_type": "code",
   "execution_count": 7,
   "id": "7357e7d8-4b69-4e9d-b0cd-f806b323d140",
   "metadata": {},
   "outputs": [],
   "source": [
    "agent = initialize_agent(\n",
    "    tools,\n",
    "    vertexai.VertexAI(temperature=0.3),\n",
    "    agent=AgentType.STRUCTURED_CHAT_ZERO_SHOT_REACT_DESCRIPTION,\n",
    "    verbose=True,\n",
    ")"
   ]
  },
  {
   "cell_type": "code",
   "execution_count": 10,
   "id": "4e626c61-909f-4461-815d-07424c31e596",
   "metadata": {},
   "outputs": [
    {
     "name": "stdout",
     "output_type": "stream",
     "text": [
      "\n",
      "\n",
      "\u001b[1m> Entering new AgentExecutor chain...\u001b[0m\n",
      "\u001b[32;1m\u001b[1;3m Action:\n",
      "```\n",
      "{\n",
      "  \"action\": \"get_basic_menu_tool\",\n",
      "  \"action_input\": {}\n",
      "}\n",
      "```\n",
      "\u001b[0m\n",
      "Observation: \u001b[36;1m\u001b[1;3m['Muffin', 'Coffee', 'Danish']\u001b[0m\n",
      "Thought:\u001b[32;1m\u001b[1;3m Action:\n",
      "```\n",
      "{\n",
      "  \"action\": \"get_detailed_menu_tool\",\n",
      "  \"action_input\": {}\n",
      "}\n",
      "```\n",
      "\n",
      "\u001b[0m\n",
      "Observation: \u001b[33;1m\u001b[1;3m['Small, Blueberry Muffin', 'Small, Banana Chocolate Chip Muffin', 'Small, Radish Muffin', 'Medium, Blueberry Muffin', 'Medium, Banana Chocolate Chip Muffin', 'Medium, Radish Muffin', 'Large, Blueberry Muffin', 'Large, Banana Chocolate Chip Muffin', 'Large, Radish Muffin', 'Small Coffee', 'Medium Coffee', 'Large Coffee', 'Blueberry Danish', 'Banana Chocolate Chip Danish', 'Radish Danish']\u001b[0m\n",
      "Thought:\u001b[32;1m\u001b[1;3m Action:\n",
      "```\n",
      "{\n",
      "  \"action\": \"Final Answer\",\n",
      "  \"action_input\": \"We have small, medium, and large coffee.\"\n",
      "}\n",
      "```\u001b[0m\n",
      "\n",
      "\u001b[1m> Finished chain.\u001b[0m\n"
     ]
    },
    {
     "data": {
      "text/plain": [
       "'We have small, medium, and large coffee.'"
      ]
     },
     "execution_count": 10,
     "metadata": {},
     "output_type": "execute_result"
    }
   ],
   "source": [
    "agent.run(\"What types of coffee are available?\")"
   ]
  },
  {
   "cell_type": "markdown",
   "id": "8bc1a643-574e-4eb4-b685-e685da531954",
   "metadata": {},
   "source": [
    "## Chirp\n",
    "TODO: setup google chirp just for a simple demo"
   ]
  },
  {
   "cell_type": "code",
   "execution_count": null,
   "id": "a4383392-7450-4120-81c4-087a2b5257c6",
   "metadata": {},
   "outputs": [],
   "source": []
  }
 ],
 "metadata": {
  "kernelspec": {
   "display_name": "Python 3 (ipykernel)",
   "language": "python",
   "name": "python3"
  },
  "language_info": {
   "codemirror_mode": {
    "name": "ipython",
    "version": 3
   },
   "file_extension": ".py",
   "mimetype": "text/x-python",
   "name": "python",
   "nbconvert_exporter": "python",
   "pygments_lexer": "ipython3",
   "version": "3.11.4"
  }
 },
 "nbformat": 4,
 "nbformat_minor": 5
}
