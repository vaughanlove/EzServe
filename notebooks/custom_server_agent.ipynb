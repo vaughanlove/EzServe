{
 "cells": [
  {
   "cell_type": "code",
   "execution_count": 1,
   "id": "b82cacc1-5233-4145-901c-dfc4718c4755",
   "metadata": {},
   "outputs": [],
   "source": [
    "from dotenv import load_dotenv\n",
    "import os\n",
    "from pprint import pprint\n",
    "\n",
    "# trace langchain execution\n",
    "os.environ[\"LANGCHAIN_TRACING\"] = \"false\"\n",
    "\n",
    "# load in keys from .env. Have in format API_KEY=\"\".\n",
    "load_dotenv()\n",
    "API_KEY = os.getenv(\"API_KEY\")\n",
    "LOCATION = os.getenv(\"LOCATION\")\n",
    "GOOGLE_PROJECT_ID = os.getenv(\"GOOGLE_PROJECT_ID\") # ie, confident-jackle-123456"
   ]
  },
  {
   "cell_type": "code",
   "execution_count": 2,
   "id": "47251bc9-0767-4395-8a52-c416e3886bb2",
   "metadata": {},
   "outputs": [],
   "source": [
    "from google.cloud import aiplatform\n",
    "\n",
    "aiplatform.init(project=GOOGLE_PROJECT_ID, location=\"us-central1\")"
   ]
  },
  {
   "cell_type": "code",
   "execution_count": 3,
   "id": "b5416ff3-2b30-49e1-b96b-6603d22dd1bb",
   "metadata": {},
   "outputs": [],
   "source": [
    "from langchain.agents import ZeroShotAgent, Tool, AgentExecutor\n",
    "from langchain import LLMChain, PromptTemplate\n",
    "from langchain.llms import vertexai\n",
    "from vertexai.preview.language_models import TextGenerationModel\n",
    "from langchain.agents import AgentType, initialize_agent"
   ]
  },
  {
   "cell_type": "code",
   "execution_count": 4,
   "id": "c87f5f0b-6f84-4a5f-beb3-23c5e96dbf0e",
   "metadata": {},
   "outputs": [],
   "source": [
    "import json\n",
    "\n",
    "from tools import GetMenuTool"
   ]
  },
  {
   "cell_type": "markdown",
   "id": "1d7eea10-1956-4e25-9a98-0a8fc92b54e5",
   "metadata": {},
   "source": [
    "## overview\n",
    "In order to maintain customer privacy and minimize the ability for this agent to leak information, it is not going to have any memory (in the prompt). It is still going to be able to retrieve and relay a user's order, but that will be information retrieved from an api using a tool. \n",
    "\n",
    "This saves alot of tokens being fed into the input prompt"
   ]
  },
  {
   "cell_type": "code",
   "execution_count": 5,
   "id": "c8c52c93-f068-4111-9045-6156613137ca",
   "metadata": {},
   "outputs": [],
   "source": [
    "from square.client import Client\n",
    "from square.api.catalog_api import CatalogApi\n",
    "from pydantic import BaseModel, Field, ConfigDict\n",
    "from langchain.tools.base import BaseTool\n",
    "from typing import Optional, Type\n",
    "from langchain.callbacks.manager import (\n",
    "    AsyncCallbackManagerForToolRun,\n",
    "    CallbackManagerForToolRun,\n",
    ")\n",
    "client = Client(\n",
    "    square_version='2023-08-16',\n",
    "    access_token=API_KEY,\n",
    "    environment='sandbox')"
   ]
  },
  {
   "cell_type": "code",
   "execution_count": 6,
   "id": "11af8fde-3a13-4da1-a228-c21279e6a7f5",
   "metadata": {},
   "outputs": [],
   "source": [
    "tools = [GetMenuTool()]"
   ]
  },
  {
   "cell_type": "code",
   "execution_count": 7,
   "id": "7357e7d8-4b69-4e9d-b0cd-f806b323d140",
   "metadata": {},
   "outputs": [],
   "source": [
    "mrkl = initialize_agent(\n",
    "    tools,\n",
    "    vertexai.VertexAI(temperature=0),\n",
    "    agent=AgentType.ZERO_SHOT_REACT_DESCRIPTION,\n",
    "    verbose=True,\n",
    "    max_execution_time=5,\n",
    ")"
   ]
  },
  {
   "cell_type": "code",
   "execution_count": 11,
   "id": "4e626c61-909f-4461-815d-07424c31e596",
   "metadata": {},
   "outputs": [
    {
     "name": "stdout",
     "output_type": "stream",
     "text": [
      "\n",
      "\n",
      "\u001b[1m> Entering new AgentExecutor chain...\u001b[0m\n",
      "\u001b[32;1m\u001b[1;3m The get_menu_tool can provide information on Danish pastries\n",
      "Action: get_menu_tool\n",
      "Action Input: \u001b[0m\n",
      "Observation: \u001b[36;1m\u001b[1;3m[{'type': 'Muffin', 'modifiers': ['Small', ' Blueberry'], 'item_id': 'QHIFP5QQD373ZLO5P7FHGTCM', 'price': 300}, {'type': 'Muffin', 'modifiers': ['Small', ' Banana Chocolate Chip'], 'item_id': 'JNYKOOGSGGF7XEKJBUNEK5WB', 'price': 300}, {'type': 'Muffin', 'modifiers': ['Small', ' Radish'], 'item_id': '36X25BSZPXURAJEU7KETG6IV', 'price': 300}, {'type': 'Muffin', 'modifiers': ['Medium', ' Blueberry'], 'item_id': 'CZYCQBFTH54KTQDRHQQA5PHH', 'price': 400}, {'type': 'Muffin', 'modifiers': ['Medium', ' Banana Chocolate Chip'], 'item_id': 'NIBVSCGUB6CT4VGZPBPGCHUU', 'price': 400}, {'type': 'Muffin', 'modifiers': ['Medium', ' Radish'], 'item_id': 'IN5G7QOFNW3KPGA6LACUCY2W', 'price': 400}, {'type': 'Muffin', 'modifiers': ['Large', ' Blueberry'], 'item_id': 'I7VXGGKOINY3XTX5O3BIACMD', 'price': 500}, {'type': 'Muffin', 'modifiers': ['Large', ' Banana Chocolate Chip'], 'item_id': 'P742FSUKGSR4DIU42ZRDG3HP', 'price': 500}, {'type': 'Muffin', 'modifiers': ['Large', ' Radish'], 'item_id': 'EHHE672IV5WFDTMIYAEFOOD3', 'price': 500}]\u001b[0m\n",
      "Thought:\u001b[32;1m\u001b[1;3m The observation shows that there are three types of Danish pastries: Blueberry, Banana Chocolate Chip, and Radish.\n",
      "Final Answer: Blueberry, Banana Chocolate Chip, and Radish\u001b[0m\n",
      "\n",
      "\u001b[1m> Finished chain.\u001b[0m\n"
     ]
    },
    {
     "data": {
      "text/plain": [
       "'Blueberry, Banana Chocolate Chip, and Radish'"
      ]
     },
     "execution_count": 11,
     "metadata": {},
     "output_type": "execute_result"
    }
   ],
   "source": [
    "mrkl.run(\"What types of Danish pastry are available?\")"
   ]
  },
  {
   "cell_type": "code",
   "execution_count": null,
   "id": "472964e0-7770-44a0-af0e-599491f00a56",
   "metadata": {},
   "outputs": [],
   "source": []
  },
  {
   "cell_type": "code",
   "execution_count": null,
   "id": "921ffb0d-c2f9-4c56-96aa-84196dfefb6c",
   "metadata": {},
   "outputs": [],
   "source": []
  }
 ],
 "metadata": {
  "kernelspec": {
   "display_name": "Python 3 (ipykernel)",
   "language": "python",
   "name": "python3"
  },
  "language_info": {
   "codemirror_mode": {
    "name": "ipython",
    "version": 3
   },
   "file_extension": ".py",
   "mimetype": "text/x-python",
   "name": "python",
   "nbconvert_exporter": "python",
   "pygments_lexer": "ipython3",
   "version": "3.11.4"
  }
 },
 "nbformat": 4,
 "nbformat_minor": 5
}
