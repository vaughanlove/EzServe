{
 "cells": [
  {
   "cell_type": "code",
   "execution_count": 1,
   "id": "b82cacc1-5233-4145-901c-dfc4718c4755",
   "metadata": {},
   "outputs": [],
   "source": [
    "from dotenv import load_dotenv\n",
    "import os\n",
    "from pprint import pprint\n",
    "\n",
    "# trace langchain execution\n",
    "os.environ[\"LANGCHAIN_TRACING\"] = \"false\"\n",
    "\n",
    "# load in keys from .env. Have in format API_KEY=\"\".\n",
    "load_dotenv()\n",
    "API_KEY = os.getenv(\"API_KEY\")\n",
    "LOCATION = os.getenv(\"LOCATION\")\n",
    "GOOGLE_PROJECT_ID = os.getenv(\"GOOGLE_PROJECT_ID\") # ie, confident-jackle-123456"
   ]
  },
  {
   "cell_type": "code",
   "execution_count": 2,
   "id": "47251bc9-0767-4395-8a52-c416e3886bb2",
   "metadata": {},
   "outputs": [],
   "source": [
    "from google.cloud import aiplatform\n",
    "\n",
    "aiplatform.init(project=GOOGLE_PROJECT_ID, location=\"us-central1\")"
   ]
  },
  {
   "cell_type": "code",
   "execution_count": 3,
   "id": "b5416ff3-2b30-49e1-b96b-6603d22dd1bb",
   "metadata": {},
   "outputs": [],
   "source": [
    "from langchain.agents import ZeroShotAgent, Tool, AgentExecutor\n",
    "from langchain import LLMChain, PromptTemplate\n",
    "from langchain.llms import vertexai\n",
    "from vertexai.preview.language_models import TextGenerationModel\n",
    "from langchain.agents import AgentType, initialize_agent"
   ]
  },
  {
   "cell_type": "code",
   "execution_count": 4,
   "id": "c87f5f0b-6f84-4a5f-beb3-23c5e96dbf0e",
   "metadata": {},
   "outputs": [],
   "source": [
    "import json\n",
    "\n",
    "from tools import GetBasicMenuTool, FindItemIdTool, CreateOrderTool"
   ]
  },
  {
   "cell_type": "markdown",
   "id": "1d7eea10-1956-4e25-9a98-0a8fc92b54e5",
   "metadata": {},
   "source": [
    "## overview\n",
    "In order to maintain customer privacy and minimize the ability for this agent to leak information, it is not going to have any memory (in the prompt). It is still going to be able to retrieve and relay a user's order, but that will be information retrieved from an api using a tool. \n",
    "\n",
    "This saves alot of tokens being fed into the input prompt"
   ]
  },
  {
   "cell_type": "code",
   "execution_count": 5,
   "id": "c8c52c93-f068-4111-9045-6156613137ca",
   "metadata": {},
   "outputs": [],
   "source": [
    "from square.client import Client\n",
    "from square.api.catalog_api import CatalogApi\n",
    "from pydantic import BaseModel, Field, ConfigDict\n",
    "from langchain.tools.base import BaseTool\n",
    "from typing import Optional, Type\n",
    "from langchain.callbacks.manager import (\n",
    "    AsyncCallbackManagerForToolRun,\n",
    "    CallbackManagerForToolRun,\n",
    ")\n",
    "client = Client(\n",
    "    square_version='2023-08-16',\n",
    "    access_token=API_KEY,\n",
    "    environment='sandbox')"
   ]
  },
  {
   "cell_type": "code",
   "execution_count": 6,
   "id": "11af8fde-3a13-4da1-a228-c21279e6a7f5",
   "metadata": {},
   "outputs": [],
   "source": [
    "tools = [FindItemIdTool(), CreateOrderTool()]"
   ]
  },
  {
   "cell_type": "code",
   "execution_count": 7,
   "id": "7357e7d8-4b69-4e9d-b0cd-f806b323d140",
   "metadata": {},
   "outputs": [],
   "source": [
    "agent = initialize_agent(\n",
    "    tools,\n",
    "    vertexai.VertexAI(temperature=0.3),\n",
    "    agent=AgentType.STRUCTURED_CHAT_ZERO_SHOT_REACT_DESCRIPTION,\n",
    "    verbose=True,\n",
    ")"
   ]
  },
  {
   "cell_type": "code",
   "execution_count": 10,
   "id": "4e626c61-909f-4461-815d-07424c31e596",
   "metadata": {},
   "outputs": [
    {
     "name": "stdout",
     "output_type": "stream",
     "text": [
      "\n",
      "\n",
      "\u001b[1m> Entering new AgentExecutor chain...\u001b[0m\n",
      "\u001b[32;1m\u001b[1;3m Action:\n",
      "```\n",
      "{\n",
      "  \"action\": \"find_item_id_tool\",\n",
      "  \"action_input\": {\n",
      "    \"name\": \"SMALL BLUEBERRY MUFFIN\"\n",
      "  }\n",
      "}\n",
      "```\n",
      "\u001b[0m\n",
      "Observation: \u001b[36;1m\u001b[1;3mQHIFP5QQD373ZLO5P7FHGTCM\u001b[0m\n",
      "Thought:\u001b[32;1m\u001b[1;3m Action:\n",
      "```\n",
      "{\n",
      "  \"action\": \"create_new_order\",\n",
      "  \"action_input\": {\n",
      "    \"item_id\": \"QHIFP5QQD373ZLO5P7FHGTCM\",\n",
      "    \"quantity\": \"1\"\n",
      "  }\n",
      "}\n",
      "```\n",
      "\n",
      "\u001b[0m\n",
      "Observation: \u001b[33;1m\u001b[1;3m<ApiResponse {\"order\": {\"id\": \"wE0Q3Vxv0shfL4Xc4NSfXa9UXwPZY\",\"location_id\": \"LETE3KSW0H1RB\",\"line_items\": [{\"uid\": \"Yo2ppXqzSerrM8lbovOXKC\",\"catalog_object_id\": \"QHIFP5QQD373ZLO5P7FHGTCM\",\"catalog_version\": 1694014352283,\"quantity\": \"1\",\"name\": \"Muffin\",\"variation_name\": \"Small, Blueberry\",\"base_price_money\": {\"amount\": 300,\"currency\": \"USD\"},\"gross_sales_money\": {\"amount\": 300,\"currency\": \"USD\"},\"total_tax_money\": {\"amount\": 0,\"currency\": \"USD\"},\"total_discount_money\": {\"amount\": 0,\"currency\": \"USD\"},\"total_money\": {\"amount\": 300,\"currency\": \"USD\"},\"variation_total_price_money\": {\"amount\": 300,\"currency\": \"USD\"},\"item_type\": \"ITEM\",\"total_service_charge_money\": {\"amount\": 0,\"currency\": \"USD\"}}],\"created_at\": \"2023-09-07T03:20:42.013Z\",\"updated_at\": \"2023-09-07T03:20:42.013Z\",\"state\": \"OPEN\",\"version\": 1,\"total_tax_money\": {\"amount\": 0,\"currency\": \"USD\"},\"total_discount_money\": {\"amount\": 0,\"currency\": \"USD\"},\"total_tip_money\": {\"amount\": 0,\"currency\": \"USD\"},\"total_money\": {\"amount\": 300,\"currency\": \"USD\"},\"total_service_charge_money\": {\"amount\": 0,\"currency\": \"USD\"},\"net_amounts\": {\"total_money\": {\"amount\": 300,\"currency\": \"USD\"},\"tax_money\": {\"amount\": 0,\"currency\": \"USD\"},\"discount_money\": {\"amount\": 0,\"currency\": \"USD\"},\"tip_money\": {\"amount\": 0,\"currency\": \"USD\"},\"service_charge_money\": {\"amount\": 0,\"currency\": \"USD\"}},\"source\": {\"name\": \"Sandbox for sq0idp-lapjDO96t-SagWUT7vQK7A\"},\"net_amount_due_money\": {\"amount\": 300,\"currency\": \"USD\"}}}\n",
      ">\u001b[0m\n",
      "Thought:\u001b[32;1m\u001b[1;3m Action:\n",
      "```\n",
      "{\n",
      "  \"action\": \"Final Answer\",\n",
      "  \"action_input\": \"Your order for a small blueberry muffin has been placed.\"\n",
      "}\n",
      "```\u001b[0m\n",
      "\n",
      "\u001b[1m> Finished chain.\u001b[0m\n"
     ]
    },
    {
     "data": {
      "text/plain": [
       "'Your order for a small blueberry muffin has been placed.'"
      ]
     },
     "execution_count": 10,
     "metadata": {},
     "output_type": "execute_result"
    }
   ],
   "source": [
    "agent.run(\"Could I order a SMALL BLUEBERRY MUFFIN?\")"
   ]
  },
  {
   "cell_type": "code",
   "execution_count": null,
   "id": "38168515-f0e8-46da-80e0-b000a670e911",
   "metadata": {},
   "outputs": [],
   "source": []
  }
 ],
 "metadata": {
  "kernelspec": {
   "display_name": "Python 3 (ipykernel)",
   "language": "python",
   "name": "python3"
  },
  "language_info": {
   "codemirror_mode": {
    "name": "ipython",
    "version": 3
   },
   "file_extension": ".py",
   "mimetype": "text/x-python",
   "name": "python",
   "nbconvert_exporter": "python",
   "pygments_lexer": "ipython3",
   "version": "3.11.4"
  }
 },
 "nbformat": 4,
 "nbformat_minor": 5
}
