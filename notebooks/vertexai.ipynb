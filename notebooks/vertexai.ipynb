{
 "cells": [
  {
   "cell_type": "code",
   "execution_count": 8,
   "id": "2f7c53ed-ceb4-4951-b466-ff5e66291aac",
   "metadata": {},
   "outputs": [],
   "source": [
    "from typing import Optional, Type\n",
    "from langchain.tools.base import BaseTool\n",
    "from typing import List\n",
    "from pydantic import BaseModel, Field, ConfigDict\n",
    "import json\n",
    "from square.client import Client\n",
    "from square.api.orders_api import OrdersApi"
   ]
  },
  {
   "cell_type": "code",
   "execution_count": 9,
   "id": "843f4182-8b68-43d4-9864-ec331671555f",
   "metadata": {},
   "outputs": [],
   "source": [
    "from langchain.callbacks.manager import (\n",
    "    AsyncCallbackManagerForToolRun,\n",
    "    CallbackManagerForToolRun,\n",
    ")"
   ]
  },
  {
   "cell_type": "code",
   "execution_count": 10,
   "id": "a4c21dbb-f18c-4936-b641-afda1ff1f949",
   "metadata": {},
   "outputs": [],
   "source": [
    "# put these in a file and read to environment variables...\n",
    "CAN_ACCESS=\"EAAAEJ4obHl4oPUnC94AJosAYUWqiCOOPtcmDejyvE3Dd51F-zcC6PHvFq-HSwI4\"\n",
    "US_ACCESS=\"EAAAEP0FUqPfb4_jvHrDm3HVfDUcUpK6TQPyf2f-9S2nE-R17YBu0Qt-sN3DO9GU\"\n",
    "\n",
    "US_LOCATION=\"LETE3KSW0H1RB\"\n",
    "\n",
    "DEVICE_ID_CHECKOUT_SUCCESS=\"9fa747a2-25ff-48ee-b078-04381f7c828f\"\n",
    "DEVICE_ID_CHECKOUT_SUCCESS_TIP=\"22cd266c-6246-4c06-9983-67f0c26346b0\"\n",
    "DEVICE_ID_CHECKOUT_SUCCESS_GC=\"4mp4e78c-88ed-4d55-a269-8008dfe14e9\"\n",
    "DEVICE_ID_CHECKOUT_FAILURE_BUYERCANCEL=\"841100b9-ee60-4537-9bcf-e30b2ba5e215\"\n",
    "\n",
    "client = Client(\n",
    "    square_version='2023-08-16',\n",
    "    access_token=US_ACCESS,\n",
    "    environment='sandbox')"
   ]
  },
  {
   "cell_type": "code",
   "execution_count": 26,
   "id": "f7d50299-6e70-4975-8ad6-39512c28318a",
   "metadata": {},
   "outputs": [],
   "source": [
    "# some helper functions for easy api debugging\n",
    "def handle_response(result):\n",
    "    if result.is_success():\n",
    "      print(result.body)\n",
    "    elif result.is_error():\n",
    "      print(result.errors)\n",
    "\n",
    "def search_orders(location: str, return_entries: bool =False):\n",
    "    body = { 'location_ids': [location], \"return_entries\": return_entries}\n",
    "    result = client.orders.search_orders(body)\n",
    "    handle_response(result)\n",
    "\n",
    "\n",
    "def create_terminal_checkout(order_id: str):\n",
    "    result = client.terminal.create_terminal_checkout(\n",
    "      body = {\n",
    "        \"idempotency_key\": str(uuid4().hex),\n",
    "        \"checkout\": {\n",
    "          \"amount_money\": {\n",
    "            \"amount\": 500,\n",
    "            \"currency\": \"USD\"\n",
    "          },\n",
    "          \"order_id\": order_id,\n",
    "          \"payment_options\": {\n",
    "            \"autocomplete\": True,\n",
    "            \"accept_partial_authorization\": False\n",
    "          },\n",
    "          \"device_options\": {\n",
    "            \"device_id\": \"123\",\n",
    "            \"skip_receipt_screen\": True,\n",
    "            \"collect_signature\": False,\n",
    "            \"show_itemized_cart\": False\n",
    "          },\n",
    "          \"payment_type\": \"CARD_PRESENT\",\n",
    "          \"customer_id\": \"\"\n",
    "        }\n",
    "      }\n",
    "    )\n",
    "    handle_response(result)\n",
    "\n",
    "def get_terminal_checkout(checkout_id: str):\n",
    "    result = client.terminal.get_terminal_checkout(checkout_id)\n",
    "    handle_response(result)\n"
   ]
  },
  {
   "cell_type": "code",
   "execution_count": 16,
   "id": "288f9d84-1fb3-4c9b-bbde-7e085ee8be5a",
   "metadata": {},
   "outputs": [],
   "source": [
    "from google.cloud import aiplatform\n",
    "\n",
    "aiplatform.init(project=\"loyal-karma-397523\", location=\"us-central1\")\n",
    "\n",
    "# if authentication doesn't work with just above, uncomment below.\n",
    "# !gcloud auth application-default set-quota-project loyal-karma-397523"
   ]
  },
  {
   "cell_type": "code",
   "execution_count": 21,
   "id": "5e495f7d-7618-4b95-9dd6-de2c2eaae012",
   "metadata": {},
   "outputs": [
    {
     "name": "stdout",
     "output_type": "stream",
     "text": [
      "{'checkout': {'id': 'HPD522PpT2qqO', 'amount_money': {'amount': 500, 'currency': 'USD'}, 'device_options': {'device_id': '123', 'collect_signature': False, 'tip_settings': {'allow_tipping': False}, 'skip_receipt_screen': True, 'show_itemized_cart': False}, 'status': 'PENDING', 'created_at': '2023-08-31T15:59:17.450Z', 'updated_at': '2023-08-31T15:59:17.450Z', 'app_id': 'sandbox-sq0idb-eDfa0uKR4GvZ1SC5bMSGkw', 'order_id': 'iHLPW9xNW1h4SG8ubhqlRo5tg7aZY', 'location_id': 'LETE3KSW0H1RB', 'payment_type': 'CARD_PRESENT', 'customer_id': '', 'payment_options': {'autocomplete': True, 'accept_partial_authorization': False}}}\n"
     ]
    }
   ],
   "source": [
    "create_terminal_checkout(\"iHLPW9xNW1h4SG8ubhqlRo5tg7aZY\")"
   ]
  },
  {
   "cell_type": "code",
   "execution_count": 27,
   "id": "2bb66baa-2f03-4545-ad08-f62baff087e2",
   "metadata": {},
   "outputs": [
    {
     "name": "stdout",
     "output_type": "stream",
     "text": [
      "{'checkout': {'id': 'HPD522PpT2qqO', 'amount_money': {'amount': 500, 'currency': 'USD'}, 'device_options': {'device_id': '123', 'collect_signature': False, 'tip_settings': {'allow_tipping': False}, 'skip_receipt_screen': True, 'show_itemized_cart': False}, 'status': 'PENDING', 'created_at': '2023-08-31T15:59:17.450Z', 'updated_at': '2023-08-31T15:59:17.450Z', 'app_id': 'sandbox-sq0idb-eDfa0uKR4GvZ1SC5bMSGkw', 'order_id': 'iHLPW9xNW1h4SG8ubhqlRo5tg7aZY', 'location_id': 'LETE3KSW0H1RB', 'payment_type': 'CARD_PRESENT', 'customer_id': '', 'payment_options': {'autocomplete': True, 'accept_partial_authorization': False}}}\n"
     ]
    }
   ],
   "source": [
    "get_terminal_checkout(\"HPD522PpT2qqO\")"
   ]
  },
  {
   "cell_type": "code",
   "execution_count": 17,
   "id": "18b39689-204b-403d-8788-f298dedb38a4",
   "metadata": {},
   "outputs": [],
   "source": [
    "class SearchOrderTool(BaseTool):\n",
    "    name=\"search_order_tool\"\n",
    "    description=\"for searching for orders at a location\"\n",
    "    def _run(\n",
    "          self, location_id: str, run_manager: Optional[CallbackManagerForToolRun] = None\n",
    "      ) -> str:\n",
    "          \"\"\"Use the tool.\"\"\"\n",
    "          return client.orders.search_orders(body = {\"location_ids\": [location_id], \"return_entries\": True}).body['order_entries']"
   ]
  },
  {
   "cell_type": "code",
   "execution_count": 18,
   "id": "f970b819-debe-49fb-9bef-cda5a745c7fa",
   "metadata": {},
   "outputs": [],
   "source": [
    "from langchain.tools import StructuredTool\n",
    "from uuid import uuid4\n",
    "\n",
    "from typing import Optional, Type\n",
    "from langchain.callbacks.manager import (\n",
    "    AsyncCallbackManagerForToolRun,\n",
    "    CallbackManagerForToolRun,\n",
    ")\n",
    "\n",
    "class CreateOrderSchema(BaseModel):\n",
    "    location_id: str = Field(description=\"Should be a valid location id provided in the prompt. \")\n",
    "    name: str = Field(description=\"The name of the specified food item. If no food item is identified, choose a random one.\")\n",
    "    quantity: str = Field(description=\"**VERY IMPORTANT: must be a string. The quantity of food item requested.\")\n",
    "    amount: int = Field(description=\"**VERY IMPORTANT: absolutely must be an integer. The cost of the food item. \")\n",
    "    currency: str = Field(description=\"The currency being paid with, defaults to 'USD'.\")\n",
    "\n",
    "\n",
    "class CreateOrderTool(BaseTool):\n",
    "    name=\"create_new_order\"\n",
    "    description=\"used for creating a new order\"\n",
    "    args_schema: Type[CreateOrderSchema] = CreateOrderSchema\n",
    "    def _run(\n",
    "        self, location_id: str, name: str, quantity: str, amount: int, currency: str, run_manager: Optional[CallbackManagerForToolRun] = None\n",
    "    ) -> str:    \n",
    "          return client.orders.create_order(body = {  \"order\": { \"location_id\": location_id, \"line_items\": [{\"name\": name, \"quantity\": quantity, \"modifiers\": [], \"base_price_money\": { \"amount\": amount,\"currency\": currency}}]},\"idempotency_key\": str(uuid4().hex)})\n",
    "          "
   ]
  },
  {
   "cell_type": "code",
   "execution_count": 19,
   "id": "91443e4c-5ae4-45a8-b19c-6770b466a402",
   "metadata": {},
   "outputs": [
    {
     "name": "stdout",
     "output_type": "stream",
     "text": [
      "<class 'langchain.llms.vertexai.VertexAI'>\n"
     ]
    }
   ],
   "source": [
    "from langchain.llms import vertexai\n",
    "print(vertexai.VertexAI)\n",
    "from vertexai.preview.language_models import TextGenerationModel\n",
    "from langchain.chains import APIChain\n",
    "from langchain.agents import AgentType, initialize_agent\n",
    "\n",
    "tools = [CreateOrderTool(), SearchOrderTool()]\n",
    "\n",
    "llm = vertexai.VertexAI(temperature=0)\n",
    "\n",
    "agent = initialize_agent(tools, llm, agent=AgentType.STRUCTURED_CHAT_ZERO_SHOT_REACT_DESCRIPTION, verbose=True)"
   ]
  },
  {
   "cell_type": "code",
   "execution_count": 19,
   "id": "a85c33ac-dce3-40a3-b9c4-a2626395980d",
   "metadata": {
    "scrolled": true
   },
   "outputs": [
    {
     "name": "stdout",
     "output_type": "stream",
     "text": [
      "\n",
      "\n",
      "\u001b[1m> Entering new AgentExecutor chain...\u001b[0m\n",
      "\u001b[32;1m\u001b[1;3m Action:\n",
      "```\n",
      "{\n",
      "  \"action\": \"create_new_order\",\n",
      "  \"action_input\": {\n",
      "    \"location_id\": \"LETE3KSW0H1RB\",\n",
      "    \"name\": \"Cappuccino\",\n",
      "    \"quantity\": \"1\",\n",
      "    \"amount\": 500,\n",
      "    \"currency\": \"USD\"\n",
      "  }\n",
      "}\n",
      "```\n",
      "\u001b[0m\n",
      "Observation: \u001b[36;1m\u001b[1;3m<ApiResponse {\"order\": {\"id\": \"iHLPW9xNW1h4SG8ubhqlRo5tg7aZY\",\"location_id\": \"LETE3KSW0H1RB\",\"line_items\": [{\"uid\": \"nAsmW4XGtk4I6V1H0dn5RD\",\"quantity\": \"1\",\"name\": \"Cappuccino\",\"base_price_money\": {\"amount\": 500,\"currency\": \"USD\"},\"gross_sales_money\": {\"amount\": 500,\"currency\": \"USD\"},\"total_tax_money\": {\"amount\": 0,\"currency\": \"USD\"},\"total_discount_money\": {\"amount\": 0,\"currency\": \"USD\"},\"total_money\": {\"amount\": 500,\"currency\": \"USD\"},\"variation_total_price_money\": {\"amount\": 500,\"currency\": \"USD\"},\"item_type\": \"ITEM\",\"total_service_charge_money\": {\"amount\": 0,\"currency\": \"USD\"}}],\"created_at\": \"2023-08-31T05:41:59.312Z\",\"updated_at\": \"2023-08-31T05:41:59.312Z\",\"state\": \"OPEN\",\"version\": 1,\"total_tax_money\": {\"amount\": 0,\"currency\": \"USD\"},\"total_discount_money\": {\"amount\": 0,\"currency\": \"USD\"},\"total_tip_money\": {\"amount\": 0,\"currency\": \"USD\"},\"total_money\": {\"amount\": 500,\"currency\": \"USD\"},\"total_service_charge_money\": {\"amount\": 0,\"currency\": \"USD\"},\"net_amounts\": {\"total_money\": {\"amount\": 500,\"currency\": \"USD\"},\"tax_money\": {\"amount\": 0,\"currency\": \"USD\"},\"discount_money\": {\"amount\": 0,\"currency\": \"USD\"},\"tip_money\": {\"amount\": 0,\"currency\": \"USD\"},\"service_charge_money\": {\"amount\": 0,\"currency\": \"USD\"}},\"source\": {\"name\": \"Sandbox for sq0idp-lapjDO96t-SagWUT7vQK7A\"},\"net_amount_due_money\": {\"amount\": 500,\"currency\": \"USD\"}}}\n",
      ">\u001b[0m\n",
      "Thought:\u001b[32;1m\u001b[1;3m The order was created successfully.\n",
      "Action:\n",
      "```\n",
      "{\n",
      "  \"action\": \"Final Answer\",\n",
      "  \"action_input\": \"Your order for a cappuccino has been created. Your order ID is iHLPW9xNW1h4SG8ubhqlRo5tg7aZY.\"\n",
      "}\n",
      "```\u001b[0m\n",
      "\n",
      "\u001b[1m> Finished chain.\u001b[0m\n"
     ]
    },
    {
     "data": {
      "text/plain": [
       "'Your order for a cappuccino has been created. Your order ID is iHLPW9xNW1h4SG8ubhqlRo5tg7aZY.'"
      ]
     },
     "execution_count": 19,
     "metadata": {},
     "output_type": "execute_result"
    }
   ],
   "source": [
    "agent.run(\"location_id = LETE3KSW0H1RB, Hi my name is tristin, could I please order a cappaccino for 5 dollars?\")"
   ]
  }
 ],
 "metadata": {
  "kernelspec": {
   "display_name": "Python 3 (ipykernel)",
   "language": "python",
   "name": "python3"
  },
  "language_info": {
   "codemirror_mode": {
    "name": "ipython",
    "version": 3
   },
   "file_extension": ".py",
   "mimetype": "text/x-python",
   "name": "python",
   "nbconvert_exporter": "python",
   "pygments_lexer": "ipython3",
   "version": "3.11.4"
  }
 },
 "nbformat": 4,
 "nbformat_minor": 5
}
