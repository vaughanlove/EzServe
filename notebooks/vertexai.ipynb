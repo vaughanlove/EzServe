{
 "cells": [
  {
   "cell_type": "code",
   "execution_count": 1,
   "id": "2f7c53ed-ceb4-4951-b466-ff5e66291aac",
   "metadata": {},
   "outputs": [],
   "source": [
    "from typing import Optional, Type\n",
    "from langchain.tools.base import BaseTool\n",
    "from typing import List\n",
    "from pydantic import BaseModel, Field, ConfigDict\n",
    "import json\n",
    "from square.client import Client\n",
    "from square.api.orders_api import OrdersApi"
   ]
  },
  {
   "cell_type": "code",
   "execution_count": 2,
   "id": "897b59cc-53bf-43ce-8351-ef6a7cfeeada",
   "metadata": {},
   "outputs": [
    {
     "data": {
      "text/plain": [
       "True"
      ]
     },
     "execution_count": 2,
     "metadata": {},
     "output_type": "execute_result"
    }
   ],
   "source": [
    "from dotenv import load_dotenv\n",
    "\n",
    "# load in keys from .env. Have in format API_KEY=\"\".\n",
    "load_dotenv()"
   ]
  },
  {
   "cell_type": "code",
   "execution_count": 3,
   "id": "ad265e1b-e7f6-4c86-8c5e-1fcafb522083",
   "metadata": {},
   "outputs": [],
   "source": [
    "import os\n",
    "API_KEY = os.getenv(\"API_KEY\")\n",
    "LOCATION = os.getenv(\"LOCATION\")\n",
    "GOOGLE_PROJECT_ID = os.getenv(\"GOOGLE_PROJECT_ID\") # ie, confident-jackle-123456"
   ]
  },
  {
   "cell_type": "code",
   "execution_count": 4,
   "id": "a4c21dbb-f18c-4936-b641-afda1ff1f949",
   "metadata": {},
   "outputs": [],
   "source": [
    "# square device id presets. More info at https://developer.squareup.com/docs/devtools/sandbox/testing\n",
    "DEVICE_ID_CHECKOUT_SUCCESS=\"9fa747a2-25ff-48ee-b078-04381f7c828f\"\n",
    "DEVICE_ID_CHECKOUT_SUCCESS_TIP=\"22cd266c-6246-4c06-9983-67f0c26346b0\"\n",
    "DEVICE_ID_CHECKOUT_SUCCESS_GC=\"4mp4e78c-88ed-4d55-a269-8008dfe14e9\"\n",
    "DEVICE_ID_CHECKOUT_FAILURE_BUYER_CANCEL=\"841100b9-ee60-4537-9bcf-e30b2ba5e215\""
   ]
  },
  {
   "cell_type": "code",
   "execution_count": 5,
   "id": "5b8885ae-b2df-4097-b460-bbc26ce86673",
   "metadata": {},
   "outputs": [],
   "source": [
    "client = Client(\n",
    "    square_version='2023-08-16',\n",
    "    access_token=API_KEY,\n",
    "    environment='sandbox')"
   ]
  },
  {
   "cell_type": "code",
   "execution_count": 6,
   "id": "f7d50299-6e70-4975-8ad6-39512c28318a",
   "metadata": {},
   "outputs": [],
   "source": [
    "# some helper functions for easy api debugging\n",
    "def handle_response(result):\n",
    "    if result.is_success():\n",
    "      print(result.body)\n",
    "    elif result.is_error():\n",
    "      print(result.errors)\n",
    "\n",
    "# search for orders at a specified location.\n",
    "def search_orders(location: str, return_entries: bool = False):\n",
    "    body = { 'location_ids': [location], \"return_entries\": return_entries}\n",
    "    result = client.orders.search_orders(body)\n",
    "    handle_response(result)\n",
    "\n",
    "# Create a terminal checkout - default is payment success.\n",
    "def create_terminal_checkout(order_id: str, cost, device_id: str = DEVICE_ID_CHECKOUT_SUCCESS):\n",
    "    result = client.terminal.create_terminal_checkout(\n",
    "      body = {\n",
    "        \"idempotency_key\": str(uuid4().hex),\n",
    "        \"checkout\": {\n",
    "          \"amount_money\": {\n",
    "            \"amount\": cost,\n",
    "            \"currency\": \"USD\"\n",
    "          },\n",
    "          \"order_id\": order_id,\n",
    "          \"payment_options\": {\n",
    "            \"autocomplete\": True,\n",
    "            \"accept_partial_authorization\": False\n",
    "          },\n",
    "          \"device_options\": {\n",
    "            \"device_id\": device_id,\n",
    "            \"skip_receipt_screen\": True,\n",
    "            \"collect_signature\": True,\n",
    "            \"show_itemized_cart\": True\n",
    "          },\n",
    "          \"payment_type\": \"CARD_PRESENT\",\n",
    "          \"customer_id\": \"\"\n",
    "        }\n",
    "      }\n",
    "    )\n",
    "    handle_response(result)\n",
    "\n",
    "# get the status of a current terminal by checkout ID.\n",
    "def get_terminal_checkout(checkout_id: str):\n",
    "    result = client.terminal.get_terminal_checkout(checkout_id)\n",
    "    handle_response(result)\n"
   ]
  },
  {
   "cell_type": "code",
   "execution_count": 7,
   "id": "288f9d84-1fb3-4c9b-bbde-7e085ee8be5a",
   "metadata": {},
   "outputs": [],
   "source": [
    "from google.cloud import aiplatform\n",
    "\n",
    "aiplatform.init(project=GOOGLE_PROJECT_ID, location=\"us-central1\")\n",
    "\n",
    "# if authentication doesn't work with just above, uncomment below.\n",
    "# !gcloud auth application-default set-quota-project GOOGLE_PROJECT_ID"
   ]
  },
  {
   "cell_type": "code",
   "execution_count": 9,
   "id": "18b39689-204b-403d-8788-f298dedb38a4",
   "metadata": {},
   "outputs": [],
   "source": [
    "from langchain.tools import StructuredTool\n",
    "from uuid import uuid4\n",
    "\n",
    "from langchain.callbacks.manager import (\n",
    "    AsyncCallbackManagerForToolRun,\n",
    "    CallbackManagerForToolRun,\n",
    ")\n",
    "\n",
    "class SearchOrderTool(BaseTool):\n",
    "    name=\"search_order_tool\"\n",
    "    description=\"for searching for orders at a location\"\n",
    "    def _run(\n",
    "          self, location_id: str, run_manager: Optional[CallbackManagerForToolRun] = None\n",
    "      ) -> str:\n",
    "          \"\"\"Use the tool.\"\"\"\n",
    "          return client.orders.search_orders(body = {\"location_ids\": [location_id], \"return_entries\": True}).body['order_entries']"
   ]
  },
  {
   "cell_type": "code",
   "execution_count": 49,
   "id": "f970b819-debe-49fb-9bef-cda5a745c7fa",
   "metadata": {},
   "outputs": [],
   "source": [
    "\n",
    "class CreateOrderSchema(BaseModel):\n",
    "    location_id: str = Field(description=\"Should be a valid location id provided in the prompt. \")\n",
    "    name: str = Field(description=\"The name of the specified food item. If no food item is identified, choose a random one.\")\n",
    "    quantity: str = Field(description=\"**VERY IMPORTANT: must be a string. The quantity of food item requested.\")\n",
    "    amount: int = Field(description=\"**VERY IMPORTANT: absolutely must be an integer. The cost of the food item. \")\n",
    "    currency: str = Field(description=\"The currency being paid with, defaults to 'USD'.\")\n",
    "\n",
    "\n",
    "class CreateOrderTool(BaseTool):\n",
    "    name=\"create_new_order\"\n",
    "    description=\"used for creating a new order\"\n",
    "    args_schema: Type[CreateOrderSchema] = CreateOrderSchema\n",
    "    def _run(\n",
    "        self, location_id: str, name: str, quantity: str, amount: int, currency: str, run_manager: Optional[CallbackManagerForToolRun] = None\n",
    "    ) -> str:    \n",
    "          return client.orders.create_order(body = {  \"order\": { \"location_id\": location_id, \"line_items\": [{\"name\": name, \"quantity\": quantity, \"modifiers\": [], \"base_price_money\": { \"amount\": amount,\"currency\": currency}}]},\"idempotency_key\": str(uuid4().hex)})\n",
    "          "
   ]
  },
  {
   "cell_type": "code",
   "execution_count": 50,
   "id": "91443e4c-5ae4-45a8-b19c-6770b466a402",
   "metadata": {},
   "outputs": [],
   "source": [
    "from langchain.llms import vertexai\n",
    "from vertexai.preview.language_models import TextGenerationModel\n",
    "from langchain.chains import APIChain\n",
    "from langchain.agents import AgentType, initialize_agent\n",
    "\n",
    "#define the tools available to the agent\n",
    "tools = [CreateOrderTool(), SearchOrderTool()]\n",
    "\n",
    "# use PaLM 2 via vertex\n",
    "llm = vertexai.VertexAI(temperature=0)\n",
    "\n",
    "# initialize the agent - has to be STRUCTURED_CHAT_ZERO_SHOT_REACT_DESCRIPTION because CreateOrderTool takes multiple inputs.\n",
    "agent = initialize_agent(tools,\n",
    "                         llm, \n",
    "                         agent=AgentType.STRUCTURED_CHAT_ZERO_SHOT_REACT_DESCRIPTION, \n",
    "                         verbose=True\n",
    "                        )\n"
   ]
  },
  {
   "cell_type": "code",
   "execution_count": 21,
   "id": "6459e218-b42d-43e0-a96c-1e297ff95698",
   "metadata": {
    "scrolled": true
   },
   "outputs": [],
   "source": [
    "#agent.run(\"location_id = LETE3KSW0H1RB. I want to order a $7 coffee, 3 burgers for $12 and a tequila shot.\")"
   ]
  },
  {
   "cell_type": "markdown",
   "id": "94fcbe5d-7872-4272-8228-955136d71de6",
   "metadata": {},
   "source": [
    "# adding memory to the agent"
   ]
  }
 ],
 "metadata": {
  "kernelspec": {
   "display_name": "Python 3 (ipykernel)",
   "language": "python",
   "name": "python3"
  },
  "language_info": {
   "codemirror_mode": {
    "name": "ipython",
    "version": 3
   },
   "file_extension": ".py",
   "mimetype": "text/x-python",
   "name": "python",
   "nbconvert_exporter": "python",
   "pygments_lexer": "ipython3",
   "version": "3.11.4"
  }
 },
 "nbformat": 4,
 "nbformat_minor": 5
}
