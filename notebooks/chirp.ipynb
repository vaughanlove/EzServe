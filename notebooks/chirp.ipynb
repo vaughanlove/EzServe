{
 "cells": [
  {
   "cell_type": "code",
   "execution_count": 1,
   "id": "b1c73f00-4914-4455-93c4-aa61bfe1866a",
   "metadata": {},
   "outputs": [],
   "source": [
    "# import pyaudio\n",
    "# have not managed to get pyaudio to work in wsl. currently recording voice externally in windows and moving into a different folder. "
   ]
  },
  {
   "cell_type": "code",
   "execution_count": 1,
   "id": "c467aa95-267e-421b-93c7-e2e53ac52468",
   "metadata": {},
   "outputs": [],
   "source": [
    "from google.api_core.client_options import ClientOptions\n",
    "from google.cloud.speech_v2 import SpeechClient\n",
    "from google.cloud.speech_v2.types import cloud_speech\n"
   ]
  },
  {
   "cell_type": "code",
   "execution_count": 3,
   "id": "b86cfc4e-c069-460f-8cc8-fb0dd1262a6c",
   "metadata": {},
   "outputs": [],
   "source": [
    "from dotenv import load_dotenv\n",
    "import os\n",
    "# load in keys from .env. Have in format API_KEY=\"\".\n",
    "load_dotenv()\n",
    "GOOGLE_PROJECT_ID = os.getenv(\"GOOGLE_PROJECT_ID\") # ie, confident-jackle-123456"
   ]
  },
  {
   "cell_type": "code",
   "execution_count": 4,
   "id": "a6b3bc76-6409-42ff-b6f7-aa03edceb742",
   "metadata": {},
   "outputs": [],
   "source": [
    "from google.cloud import aiplatform\n",
    "\n",
    "aiplatform.init(project=GOOGLE_PROJECT_ID, location=\"us-central1\")"
   ]
  },
  {
   "cell_type": "code",
   "execution_count": 6,
   "id": "b69a5bab-c486-40bf-86ef-8fd7a94ea347",
   "metadata": {},
   "outputs": [],
   "source": [
    "def quickstart_v2(\n",
    "    project_id: str,\n",
    "    audio_file: str,\n",
    ") -> cloud_speech.RecognizeResponse:\n",
    "    \"\"\"Transcribe an audio file.\"\"\"\n",
    "    # Instantiates a client\n",
    "    client = SpeechClient()\n",
    "\n",
    "    # Reads a file as bytes\n",
    "    with open(audio_file, \"rb\") as f:\n",
    "        content = f.read()\n",
    "\n",
    "    config = cloud_speech.RecognitionConfig(\n",
    "        auto_decoding_config=cloud_speech.AutoDetectDecodingConfig(),\n",
    "        language_codes=[\"en-US\"],\n",
    "        model=\"long\",\n",
    "    )\n",
    "\n",
    "    request = cloud_speech.RecognizeRequest(\n",
    "        recognizer=f\"projects/{project_id}/locations/global/recognizers/_\",\n",
    "        config=config,\n",
    "        content=content,\n",
    "    )\n",
    "\n",
    "    # Transcribes the audio into text\n",
    "    response = client.recognize(request=request)\n",
    "\n",
    "    for result in response.results:\n",
    "        print(f\"Transcript: {result.alternatives[0].transcript}\")\n",
    "\n",
    "    return response"
   ]
  },
  {
   "cell_type": "code",
   "execution_count": 8,
   "id": "aff25b6b-415b-45c7-a619-8e47437a16f1",
   "metadata": {},
   "outputs": [
    {
     "name": "stdout",
     "output_type": "stream",
     "text": [
      "Transcript: could I get a small coffee and\n",
      "Transcript:  a medium blueberry muffin\n"
     ]
    }
   ],
   "source": [
    "result = quickstart_v2(GOOGLE_PROJECT_ID, \"recordings/simple-order-wav.wav\")"
   ]
  },
  {
   "cell_type": "code",
   "execution_count": 13,
   "id": "8532d69e-1d03-4392-a592-d2e4ff7a7db2",
   "metadata": {},
   "outputs": [
    {
     "data": {
      "text/plain": [
       "[alternatives {\n",
       "  transcript: \"could I get a small coffee and\"\n",
       "  confidence: 0.955053329\n",
       "}\n",
       "result_end_offset {\n",
       "  seconds: 6\n",
       "  nanos: 160000000\n",
       "}\n",
       "language_code: \"en-US\"\n",
       ", alternatives {\n",
       "  transcript: \" a medium blueberry muffin\"\n",
       "  confidence: 0.972195446\n",
       "}\n",
       "result_end_offset {\n",
       "  seconds: 9\n",
       "  nanos: 940000000\n",
       "}\n",
       "language_code: \"en-US\"\n",
       "]"
      ]
     },
     "execution_count": 13,
     "metadata": {},
     "output_type": "execute_result"
    }
   ],
   "source": [
    "result.results"
   ]
  },
  {
   "cell_type": "code",
   "execution_count": null,
   "id": "e23e6810-6f6a-479a-8ff9-cdd4ce4ca08a",
   "metadata": {},
   "outputs": [],
   "source": []
  }
 ],
 "metadata": {
  "kernelspec": {
   "display_name": "Python 3 (ipykernel)",
   "language": "python",
   "name": "python3"
  },
  "language_info": {
   "codemirror_mode": {
    "name": "ipython",
    "version": 3
   },
   "file_extension": ".py",
   "mimetype": "text/x-python",
   "name": "python",
   "nbconvert_exporter": "python",
   "pygments_lexer": "ipython3",
   "version": "3.11.4"
  }
 },
 "nbformat": 4,
 "nbformat_minor": 5
}
