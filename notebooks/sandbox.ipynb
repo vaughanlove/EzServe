{
 "cells": [
  {
   "cell_type": "code",
   "execution_count": 7,
   "id": "91078214-92c7-4846-85a8-b73c57acedb3",
   "metadata": {},
   "outputs": [],
   "source": [
    "import json\n",
    "from typing import Optional, Type\n",
    "\n",
    "from square.client import Client\n",
    "from square.api.catalog_api import CatalogApi\n",
    "\n",
    "from dotenv import load_dotenv\n",
    "import os\n",
    "from pprint import pprint\n",
    "from uuid import uuid4\n"
   ]
  },
  {
   "cell_type": "code",
   "execution_count": 8,
   "id": "f1861ac6-4da8-4b5f-aa51-e0cbbcf5d501",
   "metadata": {},
   "outputs": [
    {
     "name": "stdout",
     "output_type": "stream",
     "text": [
      "EAAAEP0FUqPfb4_jvHrDm3HVfDUcUpK6TQPyf2f-9S2nE-R17YBu0Qt-sN3DO9GU\n"
     ]
    }
   ],
   "source": [
    "# load in keys from .env. Have in format API_KEY=\"\".\n",
    "load_dotenv()\n",
    "API_KEY = os.getenv(\"API_KEY\")\n",
    "LOCATION = os.getenv(\"LOCATION\")\n",
    "\n",
    "print(API_KEY)"
   ]
  },
  {
   "cell_type": "code",
   "execution_count": 9,
   "id": "79a1ca98-d320-46d2-85ac-cc27ae51340a",
   "metadata": {},
   "outputs": [],
   "source": [
    "client = Client(\n",
    "    square_version='2023-08-16',\n",
    "    access_token=API_KEY,\n",
    "    environment='sandbox')"
   ]
  },
  {
   "cell_type": "code",
   "execution_count": 10,
   "id": "d4058c41-dda3-4a34-9b65-070af6ca055e",
   "metadata": {},
   "outputs": [
    {
     "name": "stdout",
     "output_type": "stream",
     "text": [
      "'LETE3KSW0H1RB'\n"
     ]
    }
   ],
   "source": [
    "pprint(LOCATION)"
   ]
  },
  {
   "cell_type": "code",
   "execution_count": 11,
   "id": "07bf1a53-0330-459b-a57b-f1ce88efafc6",
   "metadata": {},
   "outputs": [
    {
     "name": "stdout",
     "output_type": "stream",
     "text": [
      "{'errors': [{'code': 'NOT_FOUND', 'detail': 'Order not found for id OLVKlq38Bt7cDcJt8BIoC0ZKvWLZY', 'category': 'INVALID_REQUEST_ERROR'}]}\n"
     ]
    }
   ],
   "source": [
    "result = client.orders.retrieve_order(\n",
    "  order_id = \"OLVKlq38Bt7cDcJt8BIoC0ZKvWLZY\"\n",
    ")\n",
    "\n",
    "print(result.body)"
   ]
  },
  {
   "cell_type": "code",
   "execution_count": 12,
   "id": "9b72cdaa-0da8-4849-8823-632c7c009746",
   "metadata": {},
   "outputs": [],
   "source": [
    "match = \"Large, Blueberry Muffin\"\n",
    "\n",
    "cl = \"coffee large\"\n",
    "blm = \"Blueberry Muffin (Large)\"\n",
    "\n",
    "item_id = \"4EWWXLTFINIWPH6XSZ7PR7UB\"\n",
    "quantity = \"1\"\n",
    "ORDER_ID = \"WRH9o1f6GueZc70usFWvcOSWWgWZY\"\n",
    "body = { \n",
    "                \"order\": { \n",
    "                    \"location_id\": LOCATION, \n",
    "                    \"line_items\": [\n",
    "                        {\n",
    "                            \"catalog_object_id\" : item_id,\n",
    "                            \"item_type\": \"ITEM\", \n",
    "                            \"quantity\": quantity\n",
    "                        }\n",
    "                    ],\n",
    "                    \"version\": 2\n",
    "                },\n",
    "                \"idempotency_key\": str(uuid4().hex)\n",
    "            }\n",
    "result = client.orders.update_order(ORDER_ID, body)"
   ]
  },
  {
   "cell_type": "code",
   "execution_count": 13,
   "id": "0a1c4a4a-566d-41e0-9067-181780ca09db",
   "metadata": {},
   "outputs": [
    {
     "name": "stdout",
     "output_type": "stream",
     "text": [
      "<ApiResponse {\"order\": {\"id\": \"WRH9o1f6GueZc70usFWvcOSWWgWZY\",\"location_id\": \"LETE3KSW0H1RB\",\"line_items\": [{\"uid\": \"Y9cLiTWglrIAO3o1CHfzy\",\"catalog_object_id\": \"4EWWXLTFINIWPH6XSZ7PR7UB\",\"catalog_version\": 1694014352283,\"quantity\": \"1\",\"name\": \"Coffee\",\"variation_name\": \"Small\",\"base_price_money\": {\"amount\": 200,\"currency\": \"USD\"},\"gross_sales_money\": {\"amount\": 200,\"currency\": \"USD\"},\"total_tax_money\": {\"amount\": 0,\"currency\": \"USD\"},\"total_discount_money\": {\"amount\": 0,\"currency\": \"USD\"},\"total_money\": {\"amount\": 200,\"currency\": \"USD\"},\"variation_total_price_money\": {\"amount\": 200,\"currency\": \"USD\"},\"item_type\": \"ITEM\",\"total_service_charge_money\": {\"amount\": 0,\"currency\": \"USD\"}},{\"uid\": \"vgYPyOaQN2mtnTz1qzDsTC\",\"catalog_object_id\": \"763UAVMAG3JKNNWKKZH46WEZ\",\"catalog_version\": 1694014352283,\"quantity\": \"1\",\"name\": \"Coffee\",\"variation_name\": \"Medium\",\"base_price_money\": {\"amount\": 250,\"currency\": \"USD\"},\"gross_sales_money\": {\"amount\": 250,\"currency\": \"USD\"},\"total_tax_money\": {\"amount\": 0,\"currency\": \"USD\"},\"total_discount_money\": {\"amount\": 0,\"currency\": \"USD\"},\"total_money\": {\"amount\": 250,\"currency\": \"USD\"},\"variation_total_price_money\": {\"amount\": 250,\"currency\": \"USD\"},\"item_type\": \"ITEM\",\"total_service_charge_money\": {\"amount\": 0,\"currency\": \"USD\"}},{\"uid\": \"rOeK2KDSesODmccWfyQ11C\",\"catalog_object_id\": \"4EWWXLTFINIWPH6XSZ7PR7UB\",\"catalog_version\": 1694014352283,\"quantity\": \"1\",\"name\": \"Coffee\",\"variation_name\": \"Small\",\"base_price_money\": {\"amount\": 200,\"currency\": \"USD\"},\"gross_sales_money\": {\"amount\": 200,\"currency\": \"USD\"},\"total_tax_money\": {\"amount\": 0,\"currency\": \"USD\"},\"total_discount_money\": {\"amount\": 0,\"currency\": \"USD\"},\"total_money\": {\"amount\": 200,\"currency\": \"USD\"},\"variation_total_price_money\": {\"amount\": 200,\"currency\": \"USD\"},\"item_type\": \"ITEM\",\"total_service_charge_money\": {\"amount\": 0,\"currency\": \"USD\"}}],\"created_at\": \"2023-09-08T18:28:47.148Z\",\"updated_at\": \"2023-09-08T18:38:12.547Z\",\"state\": \"OPEN\",\"version\": 3,\"total_tax_money\": {\"amount\": 0,\"currency\": \"USD\"},\"total_discount_money\": {\"amount\": 0,\"currency\": \"USD\"},\"total_tip_money\": {\"amount\": 0,\"currency\": \"USD\"},\"total_money\": {\"amount\": 650,\"currency\": \"USD\"},\"total_service_charge_money\": {\"amount\": 0,\"currency\": \"USD\"},\"net_amounts\": {\"total_money\": {\"amount\": 650,\"currency\": \"USD\"},\"tax_money\": {\"amount\": 0,\"currency\": \"USD\"},\"discount_money\": {\"amount\": 0,\"currency\": \"USD\"},\"tip_money\": {\"amount\": 0,\"currency\": \"USD\"},\"service_charge_money\": {\"amount\": 0,\"currency\": \"USD\"}},\"source\": {\"name\": \"Sandbox for sq0idp-lapjDO96t-SagWUT7vQK7A\"},\"net_amount_due_money\": {\"amount\": 650,\"currency\": \"USD\"}}}\n",
      ">\n"
     ]
    }
   ],
   "source": [
    "print(result)"
   ]
  },
  {
   "cell_type": "code",
   "execution_count": 12,
   "id": "d7c83f95-b952-4f16-9970-5566579b7e85",
   "metadata": {},
   "outputs": [],
   "source": [
    "result = client.catalog.list_catalog(types = \"ITEM\")\n"
   ]
  },
  {
   "cell_type": "code",
   "execution_count": 14,
   "id": "500b33fa-55e2-487a-aafd-74121af2b6ef",
   "metadata": {},
   "outputs": [
    {
     "ename": "AttributeError",
     "evalue": "'dict' object has no attribute 'objects'",
     "output_type": "error",
     "traceback": [
      "\u001b[1;31m---------------------------------------------------------------------------\u001b[0m",
      "\u001b[1;31mAttributeError\u001b[0m                            Traceback (most recent call last)",
      "Cell \u001b[1;32mIn[14], line 1\u001b[0m\n\u001b[1;32m----> 1\u001b[0m pprint(\u001b[43mresult\u001b[49m\u001b[38;5;241;43m.\u001b[39;49m\u001b[43mbody\u001b[49m\u001b[38;5;241;43m.\u001b[39;49m\u001b[43mobjects\u001b[49m)\n",
      "\u001b[1;31mAttributeError\u001b[0m: 'dict' object has no attribute 'objects'"
     ]
    }
   ],
   "source": [
    "pprint(result.body[objects])"
   ]
  },
  {
   "cell_type": "code",
   "execution_count": 20,
   "id": "1ba41d28-cb42-42dd-98e3-6f83da7a2477",
   "metadata": {},
   "outputs": [
    {
     "name": "stdout",
     "output_type": "stream",
     "text": [
      "('{\"Small, Blueberry Muffin\": {\"item_id\": \"QHIFP5QQD373ZLO5P7FHGTCM\", \"price\": '\n",
      " '300}, \"Small, Banana Chocolate Chip Muffin\": {\"item_id\": '\n",
      " '\"JNYKOOGSGGF7XEKJBUNEK5WB\", \"price\": 300}, \"Small, Radish Muffin\": '\n",
      " '{\"item_id\": \"36X25BSZPXURAJEU7KETG6IV\", \"price\": 300}, \"Medium, Blueberry '\n",
      " 'Muffin\": {\"item_id\": \"CZYCQBFTH54KTQDRHQQA5PHH\", \"price\": 400}, \"Medium, '\n",
      " 'Banana Chocolate Chip Muffin\": {\"item_id\": \"NIBVSCGUB6CT4VGZPBPGCHUU\", '\n",
      " '\"price\": 400}, \"Medium, Radish Muffin\": {\"item_id\": '\n",
      " '\"IN5G7QOFNW3KPGA6LACUCY2W\", \"price\": 400}, \"Large, Blueberry Muffin\": '\n",
      " '{\"item_id\": \"I7VXGGKOINY3XTX5O3BIACMD\", \"price\": 500}, \"Large, Banana '\n",
      " 'Chocolate Chip Muffin\": {\"item_id\": \"P742FSUKGSR4DIU42ZRDG3HP\", \"price\": '\n",
      " '500}, \"Large, Radish Muffin\": {\"item_id\": \"EHHE672IV5WFDTMIYAEFOOD3\", '\n",
      " '\"price\": 500}, \"Small Coffee\": {\"item_id\": \"4EWWXLTFINIWPH6XSZ7PR7UB\", '\n",
      " '\"price\": 200}, \"Medium Coffee\": {\"item_id\": \"763UAVMAG3JKNNWKKZH46WEZ\", '\n",
      " '\"price\": 250}, \"Large Coffee\": {\"item_id\": \"JHHYV2RFNB3K2DJGR7OM2RCZ\", '\n",
      " '\"price\": 275}, \"Blueberry Danish\": {\"item_id\": \"U3PUMOAAS5O6TJ6GAIXUVDAY\", '\n",
      " '\"price\": 400}, \"Banana Chocolate Chip Danish\": {\"item_id\": '\n",
      " '\"K57VNFAJVBSIYWAJUAA4Z6U2\", \"price\": 350}, \"Radish Danish\": {\"item_id\": '\n",
      " '\"R63UU67FQB6LHZ57W5GPROSR\", \"price\": 300}}')\n"
     ]
    }
   ],
   "source": [
    "menu = {}\n",
    "for object in result.body['objects']:\n",
    "    for variation in object['item_data']['variations']:\n",
    "        menu[variation['item_variation_data']['name'] + ' ' + object['item_data']['name']] = {\n",
    "                'item_id' : variation['id'],\n",
    "                'price' : variation['item_variation_data']['price_money']['amount']                    \n",
    "            }\n",
    "        \n",
    "pprint(json.dumps(menu))"
   ]
  },
  {
   "cell_type": "code",
   "execution_count": null,
   "id": "5d4a989e-e12e-48f3-8531-4329f9c8ac79",
   "metadata": {},
   "outputs": [],
   "source": []
  }
 ],
 "metadata": {
  "kernelspec": {
   "display_name": "Python 3 (ipykernel)",
   "language": "python",
   "name": "python3"
  },
  "language_info": {
   "codemirror_mode": {
    "name": "ipython",
    "version": 3
   },
   "file_extension": ".py",
   "mimetype": "text/x-python",
   "name": "python",
   "nbconvert_exporter": "python",
   "pygments_lexer": "ipython3",
   "version": "3.9.4"
  }
 },
 "nbformat": 4,
 "nbformat_minor": 5
}
